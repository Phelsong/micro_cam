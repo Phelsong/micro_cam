{
 "cells": [
  {
   "cell_type": "code",
   "execution_count": 2,
   "metadata": {
    "dotnet_interactive": {
     "language": "pwsh"
    },
    "polyglot_notebook": {
     "kernelName": "pwsh"
    }
   },
   "outputs": [
    {
     "name": "stdout",
     "output_type": "stream",
     "text": [
      "init gcode_lib\n",
      "reading mesh\n",
      "building config\n",
      "parsing mesh\n",
      "79\n",
      "6\n",
      "attempting object merge\n",
      "no more objects to merge\n",
      "writing gcode to file\n",
      "198\n"
     ]
    }
   ],
   "source": [
    "#! powershell\n",
    "# C-LESS Dev\n",
    "./util/Delete-Tap.ps1\n",
    "poetry run compute"
   ]
  },
  {
   "cell_type": "code",
   "execution_count": null,
   "metadata": {
    "dotnet_interactive": {
     "language": "pwsh"
    },
    "polyglot_notebook": {
     "kernelName": "pwsh"
    }
   },
   "outputs": [],
   "source": [
    "#! powershell\n",
    "# Cython Build Dev\n",
    "python .\\cy_build.py build_ext --inplace\n",
    ".\\util\\Delete-Tap.ps1\n",
    "poetry run compute"
   ]
  },
  {
   "cell_type": "code",
   "execution_count": null,
   "metadata": {
    "dotnet_interactive": {
     "language": "pwsh"
    },
    "polyglot_notebook": {
     "kernelName": "pwsh"
    }
   },
   "outputs": [],
   "source": [
    "#! powershell\n",
    "# single file \n",
    "cythonize -i compute.py "
   ]
  },
  {
   "cell_type": "code",
   "execution_count": null,
   "metadata": {
    "dotnet_interactive": {
     "language": "pwsh"
    },
    "polyglot_notebook": {
     "kernelName": "pwsh"
    }
   },
   "outputs": [],
   "source": [
    "#! powershell\n",
    "# Profiler\n",
    "Python -m cProfile .\\util\\debugger.py > log.csv"
   ]
  },
  {
   "cell_type": "code",
   "execution_count": null,
   "metadata": {
    "dotnet_interactive": {
     "language": "pwsh"
    },
    "polyglot_notebook": {
     "kernelName": "pwsh"
    }
   },
   "outputs": [],
   "source": [
    "#! powershell\n",
    "# build C extensions\n",
    "python .\\cy_build.py build_ext --inplace"
   ]
  },
  {
   "cell_type": "code",
   "execution_count": 4,
   "metadata": {
    "dotnet_interactive": {
     "language": "pwsh"
    },
    "polyglot_notebook": {
     "kernelName": "pwsh"
    },
    "vscode": {
     "languageId": "powershell"
    }
   },
   "outputs": [
    {
     "ename": "SyntaxError",
     "evalue": "invalid syntax (3364422838.py, line 3)",
     "output_type": "error",
     "traceback": [
      "\u001b[1;36m  Cell \u001b[1;32mIn[4], line 3\u001b[1;36m\u001b[0m\n\u001b[1;33m    $compiled_list = '.\\\\functions\\\\import_grid',\u001b[0m\n\u001b[1;37m    ^\u001b[0m\n\u001b[1;31mSyntaxError\u001b[0m\u001b[1;31m:\u001b[0m invalid syntax\n"
     ]
    }
   ],
   "source": [
    "#! powershell\n",
    "# clear C builds for debugging purposes\n",
    "$compiled_list = '.\\\\functions\\\\import_grid',\n",
    "'.\\\\functions\\\\import_stl',\n",
    "'.\\\\functions\\\\line_generator',\n",
    "'.\\\\functions\\\\m_config',\n",
    "'.\\\\functions\\\\m_parser',\n",
    "'.\\\\functions\\\\m_queue',\n",
    "'.\\\\functions\\\\m_object',\n",
    "'.\\\\functions\\\\m_line',\n",
    "'.\\\\functions\\\\m_stack',\n",
    "'.\\\\functions\\\\obj_merger',\n",
    "'.\\\\functions\\\\writer'\n",
    "\n",
    "foreach ($file in $compiled_list) {\n",
    "    try {\n",
    "        Remove-Item $file\".cp311-win_amd64.pyd\"\n",
    "        Remove-Item $file\".c\"\n",
    "    }\n",
    "    catch [System.IO.FileNotFoundException] { \n",
    "        pass \n",
    "    }\n",
    "}"
   ]
  }
 ],
 "metadata": {
  "kernelspec": {
   "display_name": ".venv",
   "language": "python",
   "name": "python3"
  },
  "language_info": {
   "codemirror_mode": {
    "name": "ipython",
    "version": 3
   },
   "file_extension": ".py",
   "mimetype": "text/x-python",
   "name": "python",
   "nbconvert_exporter": "python",
   "pygments_lexer": "ipython3",
   "version": "3.11.3"
  },
  "polyglot_notebook": {
   "kernelInfo": {
    "defaultKernelName": "csharp",
    "items": [
     {
      "aliases": [
       "c#",
       "C#"
      ],
      "languageName": "C#",
      "name": "csharp"
     },
     {
      "aliases": [],
      "name": ".NET"
     },
     {
      "aliases": [
       "f#",
       "F#"
      ],
      "languageName": "F#",
      "name": "fsharp"
     },
     {
      "aliases": [],
      "languageName": "HTML",
      "name": "html"
     },
     {
      "aliases": [
       "js"
      ],
      "languageName": "JavaScript",
      "name": "javascript"
     },
     {
      "aliases": [],
      "languageName": "KQL",
      "name": "kql"
     },
     {
      "aliases": [],
      "languageName": "Mermaid",
      "name": "mermaid"
     },
     {
      "aliases": [
       "powershell"
      ],
      "languageName": "PowerShell",
      "name": "pwsh"
     },
     {
      "aliases": [],
      "languageName": "SQL",
      "name": "sql"
     },
     {
      "aliases": [],
      "name": "value"
     },
     {
      "aliases": [],
      "name": "webview"
     }
    ]
   }
  }
 },
 "nbformat": 4,
 "nbformat_minor": 2
}
