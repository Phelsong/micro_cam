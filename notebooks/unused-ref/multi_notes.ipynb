{
 "cells": [
  {
   "cell_type": "code",
   "execution_count": null,
   "metadata": {},
   "outputs": [],
   "source": [
    "from multiprocessing import Pool\n",
    "\n",
    "\n",
    "def printer(in_arr):\n",
    "    print(in_arr.points)\n",
    "\n",
    "\n",
    "with Pool(5) as p:\n",
    "    print(p.map(printer, source_mesh))\n"
   ]
  },
  {
   "cell_type": "code",
   "execution_count": null,
   "metadata": {},
   "outputs": [],
   "source": [
    "import pyopencl as cl\n",
    "import numpy as np\n",
    "# Set up OpenCL context and queue\n",
    "ctx = cl.create_some_context()\n",
    "queue = cl.CommandQueue(ctx)\n",
    "\n",
    "# Create OpenCL buffers\n",
    "X_cl = cl.Buffer(ctx, cl.mem_flags.READ_ONLY | cl.mem_flags.COPY_HOST_PTR, hostbuf=X)\n",
    "Y_cl = cl.Buffer(ctx, cl.mem_flags.READ_ONLY | cl.mem_flags.COPY_HOST_PTR, hostbuf=Y)\n",
    "Z_cl = cl.Buffer(ctx, cl.mem_flags.READ_ONLY | cl.mem_flags.COPY_HOST_PTR, hostbuf=Z)\n",
    "\n",
    "# Create OpenCL Program\n",
    "program = cl.Program(ctx, build_program(X_cl, Y_cl, Z_cl))\n",
    "queue.enqueue_write_buffer(X_cl, X)\n",
    "queue.enqueue_write_buffer(Y_cl, Y)\n",
    "queue.enqueue_write_buffer(Z_cl, Z)\n",
    "\n",
    "# Run kernel\n",
    "X_val = np.array(X_cl, dtype=np.float16)\n",
    "Y_val = np.array(Y_cl, dtype=np.float16)\n",
    "Z_val = np.array(Z_cl, dtype=np.float16)"
   ]
  }
 ],
 "metadata": {
  "kernelspec": {
   "display_name": ".venv",
   "language": "python",
   "name": "python3"
  },
  "language_info": {
   "name": "python",
   "version": "3.11.2"
  },
  "orig_nbformat": 4
 },
 "nbformat": 4,
 "nbformat_minor": 2
}
